{
 "cells": [
  {
   "cell_type": "code",
   "execution_count": 2,
   "metadata": {},
   "outputs": [
    {
     "name": "stdout",
     "output_type": "stream",
     "text": [
      "Requirement already satisfied: graphrag in /opt/homebrew/lib/python3.10/site-packages (0.3.2)\n",
      "Requirement already satisfied: aiofiles<25.0.0,>=24.1.0 in /opt/homebrew/lib/python3.10/site-packages (from graphrag) (24.1.0)\n",
      "Requirement already satisfied: aiolimiter<2.0.0,>=1.1.0 in /opt/homebrew/lib/python3.10/site-packages (from graphrag) (1.1.0)\n",
      "Requirement already satisfied: azure-identity<2.0.0,>=1.17.1 in /opt/homebrew/lib/python3.10/site-packages (from graphrag) (1.17.1)\n",
      "Requirement already satisfied: azure-search-documents<12.0.0,>=11.4.0 in /opt/homebrew/lib/python3.10/site-packages (from graphrag) (11.5.1)\n",
      "Requirement already satisfied: azure-storage-blob<13.0.0,>=12.22.0 in /opt/homebrew/lib/python3.10/site-packages (from graphrag) (12.22.0)\n",
      "Requirement already satisfied: datashaper<0.0.50,>=0.0.49 in /opt/homebrew/lib/python3.10/site-packages (from graphrag) (0.0.49)\n",
      "Requirement already satisfied: devtools<0.13.0,>=0.12.2 in /opt/homebrew/lib/python3.10/site-packages (from graphrag) (0.12.2)\n",
      "Requirement already satisfied: environs<12.0.0,>=11.0.0 in /opt/homebrew/lib/python3.10/site-packages (from graphrag) (11.0.0)\n",
      "Requirement already satisfied: fastparquet<2025.0.0,>=2024.2.0 in /opt/homebrew/lib/python3.10/site-packages (from graphrag) (2024.5.0)\n",
      "Requirement already satisfied: future<2.0.0,>=1.0.0 in /opt/homebrew/lib/python3.10/site-packages (from graphrag) (1.0.0)\n",
      "Requirement already satisfied: graspologic<4.0.0,>=3.4.1 in /opt/homebrew/lib/python3.10/site-packages (from graphrag) (3.4.1)\n",
      "Requirement already satisfied: json-repair<0.27.0,>=0.26.0 in /opt/homebrew/lib/python3.10/site-packages (from graphrag) (0.26.0)\n",
      "Requirement already satisfied: lancedb<0.12.0,>=0.11.0 in /opt/homebrew/lib/python3.10/site-packages (from graphrag) (0.11.0)\n",
      "Requirement already satisfied: networkx<4,>=3 in /opt/homebrew/lib/python3.10/site-packages (from graphrag) (3.2.1)\n",
      "Requirement already satisfied: nltk==3.9.1 in /opt/homebrew/lib/python3.10/site-packages (from graphrag) (3.9.1)\n",
      "Requirement already satisfied: numba==0.60.0 in /opt/homebrew/lib/python3.10/site-packages (from graphrag) (0.60.0)\n",
      "Requirement already satisfied: numpy<2.0.0,>=1.25.2 in /opt/homebrew/lib/python3.10/site-packages (from graphrag) (1.26.4)\n",
      "Requirement already satisfied: openai<2.0.0,>=1.37.1 in /opt/homebrew/lib/python3.10/site-packages (from graphrag) (1.37.2)\n",
      "Requirement already satisfied: pyaml-env<2.0.0,>=1.2.1 in /opt/homebrew/lib/python3.10/site-packages (from graphrag) (1.2.1)\n",
      "Requirement already satisfied: pydantic<3,>=2 in /opt/homebrew/lib/python3.10/site-packages (from graphrag) (2.7.4)\n",
      "Requirement already satisfied: python-dotenv<2.0.0,>=1.0.0 in /opt/homebrew/lib/python3.10/site-packages (from graphrag) (1.0.1)\n",
      "Requirement already satisfied: pyyaml<7.0.0,>=6.0.2 in /opt/homebrew/lib/python3.10/site-packages (from graphrag) (6.0.2)\n",
      "Requirement already satisfied: rich<14.0.0,>=13.6.0 in /opt/homebrew/lib/python3.10/site-packages (from graphrag) (13.7.1)\n",
      "Requirement already satisfied: scipy==1.12.0 in /opt/homebrew/lib/python3.10/site-packages (from graphrag) (1.12.0)\n",
      "Requirement already satisfied: swifter<2.0.0,>=1.4.0 in /opt/homebrew/lib/python3.10/site-packages (from graphrag) (1.4.0)\n",
      "Requirement already satisfied: tenacity<10.0.0,>=9.0.0 in /opt/homebrew/lib/python3.10/site-packages (from graphrag) (9.0.0)\n",
      "Requirement already satisfied: textual<0.77.0,>=0.76.0 in /opt/homebrew/lib/python3.10/site-packages (from graphrag) (0.76.0)\n",
      "Requirement already satisfied: tiktoken<0.8.0,>=0.7.0 in /opt/homebrew/lib/python3.10/site-packages (from graphrag) (0.7.0)\n",
      "Requirement already satisfied: typing-extensions<5.0.0,>=4.12.2 in /opt/homebrew/lib/python3.10/site-packages (from graphrag) (4.12.2)\n",
      "Requirement already satisfied: uvloop<0.21.0,>=0.20.0 in /opt/homebrew/lib/python3.10/site-packages (from graphrag) (0.20.0)\n",
      "Requirement already satisfied: click in /opt/homebrew/lib/python3.10/site-packages (from nltk==3.9.1->graphrag) (8.1.7)\n",
      "Requirement already satisfied: joblib in /opt/homebrew/lib/python3.10/site-packages (from nltk==3.9.1->graphrag) (1.4.2)\n",
      "Requirement already satisfied: regex>=2021.8.3 in /opt/homebrew/lib/python3.10/site-packages (from nltk==3.9.1->graphrag) (2024.7.24)\n",
      "Requirement already satisfied: tqdm in /opt/homebrew/lib/python3.10/site-packages (from nltk==3.9.1->graphrag) (4.66.4)\n",
      "Requirement already satisfied: llvmlite<0.44,>=0.43.0dev0 in /opt/homebrew/lib/python3.10/site-packages (from numba==0.60.0->graphrag) (0.43.0)\n",
      "Requirement already satisfied: azure-core>=1.23.0 in /opt/homebrew/lib/python3.10/site-packages (from azure-identity<2.0.0,>=1.17.1->graphrag) (1.30.2)\n",
      "Requirement already satisfied: cryptography>=2.5 in /opt/homebrew/lib/python3.10/site-packages (from azure-identity<2.0.0,>=1.17.1->graphrag) (42.0.3)\n",
      "Requirement already satisfied: msal>=1.24.0 in /opt/homebrew/lib/python3.10/site-packages (from azure-identity<2.0.0,>=1.17.1->graphrag) (1.30.0)\n",
      "Requirement already satisfied: msal-extensions>=0.3.0 in /opt/homebrew/lib/python3.10/site-packages (from azure-identity<2.0.0,>=1.17.1->graphrag) (1.2.0)\n",
      "Requirement already satisfied: azure-common>=1.1 in /opt/homebrew/lib/python3.10/site-packages (from azure-search-documents<12.0.0,>=11.4.0->graphrag) (1.1.28)\n",
      "Requirement already satisfied: isodate>=0.6.0 in /opt/homebrew/lib/python3.10/site-packages (from azure-search-documents<12.0.0,>=11.4.0->graphrag) (0.6.1)\n",
      "Requirement already satisfied: diskcache<6.0.0,>=5.6.3 in /opt/homebrew/lib/python3.10/site-packages (from datashaper<0.0.50,>=0.0.49->graphrag) (5.6.3)\n",
      "Requirement already satisfied: jsonschema<5.0.0,>=4.21.1 in /opt/homebrew/lib/python3.10/site-packages (from datashaper<0.0.50,>=0.0.49->graphrag) (4.23.0)\n",
      "Requirement already satisfied: pandas<3.0.0,>=2.2.0 in /opt/homebrew/lib/python3.10/site-packages (from datashaper<0.0.50,>=0.0.49->graphrag) (2.2.0)\n",
      "Requirement already satisfied: pyarrow<16.0.0,>=15.0.0 in /opt/homebrew/lib/python3.10/site-packages (from datashaper<0.0.50,>=0.0.49->graphrag) (15.0.2)\n",
      "Requirement already satisfied: asttokens<3.0.0,>=2.0.0 in /Users/neranjhana/Library/Python/3.10/lib/python/site-packages (from devtools<0.13.0,>=0.12.2->graphrag) (2.4.0)\n",
      "Requirement already satisfied: executing>=1.1.1 in /Users/neranjhana/Library/Python/3.10/lib/python/site-packages (from devtools<0.13.0,>=0.12.2->graphrag) (1.2.0)\n",
      "Requirement already satisfied: pygments>=2.15.0 in /Users/neranjhana/Library/Python/3.10/lib/python/site-packages (from devtools<0.13.0,>=0.12.2->graphrag) (2.16.1)\n",
      "Requirement already satisfied: marshmallow>=3.13.0 in /opt/homebrew/lib/python3.10/site-packages (from environs<12.0.0,>=11.0.0->graphrag) (3.21.3)\n",
      "Requirement already satisfied: cramjam>=2.3 in /opt/homebrew/lib/python3.10/site-packages (from fastparquet<2025.0.0,>=2024.2.0->graphrag) (2.8.3)\n",
      "Requirement already satisfied: fsspec in /opt/homebrew/lib/python3.10/site-packages (from fastparquet<2025.0.0,>=2024.2.0->graphrag) (2024.5.0)\n",
      "Requirement already satisfied: packaging in /opt/homebrew/lib/python3.10/site-packages (from fastparquet<2025.0.0,>=2024.2.0->graphrag) (24.1)\n",
      "Requirement already satisfied: POT<0.10,>=0.9 in /opt/homebrew/lib/python3.10/site-packages (from graspologic<4.0.0,>=3.4.1->graphrag) (0.9.4)\n",
      "Requirement already satisfied: anytree<3.0.0,>=2.12.1 in /opt/homebrew/lib/python3.10/site-packages (from graspologic<4.0.0,>=3.4.1->graphrag) (2.12.1)\n",
      "Requirement already satisfied: beartype<0.19.0,>=0.18.5 in /opt/homebrew/lib/python3.10/site-packages (from graspologic<4.0.0,>=3.4.1->graphrag) (0.18.5)\n",
      "Requirement already satisfied: gensim<5.0.0,>=4.3.2 in /opt/homebrew/lib/python3.10/site-packages (from graspologic<4.0.0,>=3.4.1->graphrag) (4.3.3)\n",
      "Requirement already satisfied: graspologic-native<2.0.0,>=1.2.1 in /opt/homebrew/lib/python3.10/site-packages (from graspologic<4.0.0,>=3.4.1->graphrag) (1.2.1)\n",
      "Requirement already satisfied: hyppo<0.5.0,>=0.4.0 in /opt/homebrew/lib/python3.10/site-packages (from graspologic<4.0.0,>=3.4.1->graphrag) (0.4.0)\n",
      "Requirement already satisfied: matplotlib<4.0.0,>=3.8.4 in /opt/homebrew/lib/python3.10/site-packages (from graspologic<4.0.0,>=3.4.1->graphrag) (3.9.2)\n",
      "Requirement already satisfied: scikit-learn<2.0.0,>=1.4.2 in /opt/homebrew/lib/python3.10/site-packages (from graspologic<4.0.0,>=3.4.1->graphrag) (1.5.1)\n",
      "Requirement already satisfied: seaborn<0.14.0,>=0.13.2 in /opt/homebrew/lib/python3.10/site-packages (from graspologic<4.0.0,>=3.4.1->graphrag) (0.13.2)\n",
      "Requirement already satisfied: statsmodels<0.15.0,>=0.14.2 in /opt/homebrew/lib/python3.10/site-packages (from graspologic<4.0.0,>=3.4.1->graphrag) (0.14.2)\n",
      "Requirement already satisfied: umap-learn<0.6.0,>=0.5.6 in /opt/homebrew/lib/python3.10/site-packages (from graspologic<4.0.0,>=3.4.1->graphrag) (0.5.6)\n",
      "Requirement already satisfied: deprecation in /opt/homebrew/lib/python3.10/site-packages (from lancedb<0.12.0,>=0.11.0->graphrag) (2.1.0)\n",
      "Requirement already satisfied: pylance==0.15.0 in /opt/homebrew/lib/python3.10/site-packages (from lancedb<0.12.0,>=0.11.0->graphrag) (0.15.0)\n",
      "Requirement already satisfied: ratelimiter~=1.0 in /opt/homebrew/lib/python3.10/site-packages (from lancedb<0.12.0,>=0.11.0->graphrag) (1.2.0.post0)\n",
      "Requirement already satisfied: requests>=2.31.0 in /opt/homebrew/lib/python3.10/site-packages (from lancedb<0.12.0,>=0.11.0->graphrag) (2.32.3)\n",
      "Requirement already satisfied: retry>=0.9.2 in /opt/homebrew/lib/python3.10/site-packages (from lancedb<0.12.0,>=0.11.0->graphrag) (0.9.2)\n",
      "Requirement already satisfied: attrs>=21.3.0 in /Users/neranjhana/Library/Python/3.10/lib/python/site-packages (from lancedb<0.12.0,>=0.11.0->graphrag) (23.1.0)\n",
      "Requirement already satisfied: cachetools in /opt/homebrew/lib/python3.10/site-packages (from lancedb<0.12.0,>=0.11.0->graphrag) (5.3.3)\n",
      "Requirement already satisfied: overrides>=0.7 in /Users/neranjhana/Library/Python/3.10/lib/python/site-packages (from lancedb<0.12.0,>=0.11.0->graphrag) (7.4.0)\n",
      "Requirement already satisfied: anyio<5,>=3.5.0 in /Users/neranjhana/Library/Python/3.10/lib/python/site-packages (from openai<2.0.0,>=1.37.1->graphrag) (4.0.0)\n",
      "Requirement already satisfied: distro<2,>=1.7.0 in /opt/homebrew/lib/python3.10/site-packages (from openai<2.0.0,>=1.37.1->graphrag) (1.9.0)\n",
      "Requirement already satisfied: httpx<1,>=0.23.0 in /opt/homebrew/lib/python3.10/site-packages (from openai<2.0.0,>=1.37.1->graphrag) (0.27.0)\n",
      "Requirement already satisfied: sniffio in /Users/neranjhana/Library/Python/3.10/lib/python/site-packages (from openai<2.0.0,>=1.37.1->graphrag) (1.3.0)\n",
      "Requirement already satisfied: annotated-types>=0.4.0 in /opt/homebrew/lib/python3.10/site-packages (from pydantic<3,>=2->graphrag) (0.7.0)\n",
      "Requirement already satisfied: pydantic-core==2.18.4 in /opt/homebrew/lib/python3.10/site-packages (from pydantic<3,>=2->graphrag) (2.18.4)\n",
      "Requirement already satisfied: markdown-it-py>=2.2.0 in /opt/homebrew/lib/python3.10/site-packages (from rich<14.0.0,>=13.6.0->graphrag) (3.0.0)\n",
      "Requirement already satisfied: psutil>=5.6.6 in /Users/neranjhana/Library/Python/3.10/lib/python/site-packages (from swifter<2.0.0,>=1.4.0->graphrag) (5.9.5)\n",
      "Requirement already satisfied: dask>=2.10.0 in /opt/homebrew/lib/python3.10/site-packages (from dask[dataframe]>=2.10.0->swifter<2.0.0,>=1.4.0->graphrag) (2024.8.2)\n",
      "Requirement already satisfied: idna>=2.8 in /opt/homebrew/lib/python3.10/site-packages (from anyio<5,>=3.5.0->openai<2.0.0,>=1.37.1->graphrag) (3.4)\n",
      "Requirement already satisfied: exceptiongroup>=1.0.2 in /Users/neranjhana/Library/Python/3.10/lib/python/site-packages (from anyio<5,>=3.5.0->openai<2.0.0,>=1.37.1->graphrag) (1.1.3)\n",
      "Requirement already satisfied: six in /Users/neranjhana/Library/Python/3.10/lib/python/site-packages (from anytree<3.0.0,>=2.12.1->graspologic<4.0.0,>=3.4.1->graphrag) (1.16.0)\n",
      "Requirement already satisfied: cffi>=1.12 in /Users/neranjhana/Library/Python/3.10/lib/python/site-packages (from cryptography>=2.5->azure-identity<2.0.0,>=1.17.1->graphrag) (1.15.1)\n",
      "Requirement already satisfied: cloudpickle>=3.0.0 in /opt/homebrew/lib/python3.10/site-packages (from dask>=2.10.0->dask[dataframe]>=2.10.0->swifter<2.0.0,>=1.4.0->graphrag) (3.0.0)\n",
      "Requirement already satisfied: partd>=1.4.0 in /opt/homebrew/lib/python3.10/site-packages (from dask>=2.10.0->dask[dataframe]>=2.10.0->swifter<2.0.0,>=1.4.0->graphrag) (1.4.2)\n",
      "Requirement already satisfied: toolz>=0.10.0 in /opt/homebrew/lib/python3.10/site-packages (from dask>=2.10.0->dask[dataframe]>=2.10.0->swifter<2.0.0,>=1.4.0->graphrag) (0.12.1)\n",
      "Requirement already satisfied: importlib-metadata>=4.13.0 in /opt/homebrew/lib/python3.10/site-packages (from dask>=2.10.0->dask[dataframe]>=2.10.0->swifter<2.0.0,>=1.4.0->graphrag) (8.4.0)\n",
      "Requirement already satisfied: dask-expr<1.2,>=1.1 in /opt/homebrew/lib/python3.10/site-packages (from dask[dataframe]>=2.10.0->swifter<2.0.0,>=1.4.0->graphrag) (1.1.12)\n",
      "Requirement already satisfied: smart-open>=1.8.1 in /opt/homebrew/lib/python3.10/site-packages (from gensim<5.0.0,>=4.3.2->graspologic<4.0.0,>=3.4.1->graphrag) (7.0.4)\n",
      "Requirement already satisfied: certifi in /opt/homebrew/lib/python3.10/site-packages (from httpx<1,>=0.23.0->openai<2.0.0,>=1.37.1->graphrag) (2022.12.7)\n",
      "Requirement already satisfied: httpcore==1.* in /opt/homebrew/lib/python3.10/site-packages (from httpx<1,>=0.23.0->openai<2.0.0,>=1.37.1->graphrag) (1.0.5)\n",
      "Requirement already satisfied: h11<0.15,>=0.13 in /opt/homebrew/lib/python3.10/site-packages (from httpcore==1.*->httpx<1,>=0.23.0->openai<2.0.0,>=1.37.1->graphrag) (0.14.0)\n",
      "Requirement already satisfied: autograd>=1.3 in /opt/homebrew/lib/python3.10/site-packages (from hyppo<0.5.0,>=0.4.0->graspologic<4.0.0,>=3.4.1->graphrag) (1.7.0)\n",
      "Requirement already satisfied: jsonschema-specifications>=2023.03.6 in /Users/neranjhana/Library/Python/3.10/lib/python/site-packages (from jsonschema<5.0.0,>=4.21.1->datashaper<0.0.50,>=0.0.49->graphrag) (2023.7.1)\n",
      "Requirement already satisfied: referencing>=0.28.4 in /Users/neranjhana/Library/Python/3.10/lib/python/site-packages (from jsonschema<5.0.0,>=4.21.1->datashaper<0.0.50,>=0.0.49->graphrag) (0.30.2)\n",
      "Requirement already satisfied: rpds-py>=0.7.1 in /Users/neranjhana/Library/Python/3.10/lib/python/site-packages (from jsonschema<5.0.0,>=4.21.1->datashaper<0.0.50,>=0.0.49->graphrag) (0.10.3)\n",
      "Requirement already satisfied: mdurl~=0.1 in /opt/homebrew/lib/python3.10/site-packages (from markdown-it-py>=2.2.0->rich<14.0.0,>=13.6.0->graphrag) (0.1.2)\n",
      "Requirement already satisfied: linkify-it-py<3,>=1 in /opt/homebrew/lib/python3.10/site-packages (from markdown-it-py[linkify,plugins]>=2.1.0->textual<0.77.0,>=0.76.0->graphrag) (2.0.3)\n",
      "Requirement already satisfied: mdit-py-plugins in /opt/homebrew/lib/python3.10/site-packages (from markdown-it-py[linkify,plugins]>=2.1.0->textual<0.77.0,>=0.76.0->graphrag) (0.4.1)\n",
      "Requirement already satisfied: contourpy>=1.0.1 in /opt/homebrew/lib/python3.10/site-packages (from matplotlib<4.0.0,>=3.8.4->graspologic<4.0.0,>=3.4.1->graphrag) (1.2.0)\n",
      "Requirement already satisfied: cycler>=0.10 in /opt/homebrew/lib/python3.10/site-packages (from matplotlib<4.0.0,>=3.8.4->graspologic<4.0.0,>=3.4.1->graphrag) (0.12.1)\n",
      "Requirement already satisfied: fonttools>=4.22.0 in /opt/homebrew/lib/python3.10/site-packages (from matplotlib<4.0.0,>=3.8.4->graspologic<4.0.0,>=3.4.1->graphrag) (4.50.0)\n",
      "Requirement already satisfied: kiwisolver>=1.3.1 in /opt/homebrew/lib/python3.10/site-packages (from matplotlib<4.0.0,>=3.8.4->graspologic<4.0.0,>=3.4.1->graphrag) (1.4.5)\n",
      "Requirement already satisfied: pillow>=8 in /opt/homebrew/lib/python3.10/site-packages (from matplotlib<4.0.0,>=3.8.4->graspologic<4.0.0,>=3.4.1->graphrag) (10.2.0)\n",
      "Requirement already satisfied: pyparsing>=2.3.1 in /opt/homebrew/lib/python3.10/site-packages (from matplotlib<4.0.0,>=3.8.4->graspologic<4.0.0,>=3.4.1->graphrag) (3.1.2)\n",
      "Requirement already satisfied: python-dateutil>=2.7 in /Users/neranjhana/Library/Python/3.10/lib/python/site-packages (from matplotlib<4.0.0,>=3.8.4->graspologic<4.0.0,>=3.4.1->graphrag) (2.8.2)\n",
      "Requirement already satisfied: PyJWT<3,>=1.0.0 in /opt/homebrew/lib/python3.10/site-packages (from PyJWT[crypto]<3,>=1.0.0->msal>=1.24.0->azure-identity<2.0.0,>=1.17.1->graphrag) (2.9.0)\n",
      "Requirement already satisfied: portalocker<3,>=1.4 in /opt/homebrew/lib/python3.10/site-packages (from msal-extensions>=0.3.0->azure-identity<2.0.0,>=1.17.1->graphrag) (2.10.1)\n",
      "Requirement already satisfied: pytz>=2020.1 in /opt/homebrew/lib/python3.10/site-packages (from pandas<3.0.0,>=2.2.0->datashaper<0.0.50,>=0.0.49->graphrag) (2024.1)\n",
      "Requirement already satisfied: tzdata>=2022.7 in /opt/homebrew/lib/python3.10/site-packages (from pandas<3.0.0,>=2.2.0->datashaper<0.0.50,>=0.0.49->graphrag) (2024.1)\n",
      "Requirement already satisfied: charset-normalizer<4,>=2 in /opt/homebrew/lib/python3.10/site-packages (from requests>=2.31.0->lancedb<0.12.0,>=0.11.0->graphrag) (3.0.1)\n",
      "Requirement already satisfied: urllib3<3,>=1.21.1 in /opt/homebrew/lib/python3.10/site-packages (from requests>=2.31.0->lancedb<0.12.0,>=0.11.0->graphrag) (2.2.2)\n",
      "Requirement already satisfied: decorator>=3.4.2 in /Users/neranjhana/Library/Python/3.10/lib/python/site-packages (from retry>=0.9.2->lancedb<0.12.0,>=0.11.0->graphrag) (5.1.1)\n",
      "Requirement already satisfied: py<2.0.0,>=1.4.26 in /opt/homebrew/lib/python3.10/site-packages (from retry>=0.9.2->lancedb<0.12.0,>=0.11.0->graphrag) (1.11.0)\n",
      "Requirement already satisfied: threadpoolctl>=3.1.0 in /opt/homebrew/lib/python3.10/site-packages (from scikit-learn<2.0.0,>=1.4.2->graspologic<4.0.0,>=3.4.1->graphrag) (3.5.0)\n",
      "Requirement already satisfied: patsy>=0.5.6 in /opt/homebrew/lib/python3.10/site-packages (from statsmodels<0.15.0,>=0.14.2->graspologic<4.0.0,>=3.4.1->graphrag) (0.5.6)\n",
      "Requirement already satisfied: pynndescent>=0.5 in /opt/homebrew/lib/python3.10/site-packages (from umap-learn<0.6.0,>=0.5.6->graspologic<4.0.0,>=3.4.1->graphrag) (0.5.13)\n",
      "Requirement already satisfied: pycparser in /Users/neranjhana/Library/Python/3.10/lib/python/site-packages (from cffi>=1.12->cryptography>=2.5->azure-identity<2.0.0,>=1.17.1->graphrag) (2.21)\n",
      "Requirement already satisfied: zipp>=0.5 in /opt/homebrew/lib/python3.10/site-packages (from importlib-metadata>=4.13.0->dask>=2.10.0->dask[dataframe]>=2.10.0->swifter<2.0.0,>=1.4.0->graphrag) (3.20.1)\n",
      "Requirement already satisfied: uc-micro-py in /opt/homebrew/lib/python3.10/site-packages (from linkify-it-py<3,>=1->markdown-it-py[linkify,plugins]>=2.1.0->textual<0.77.0,>=0.76.0->graphrag) (1.0.3)\n",
      "Requirement already satisfied: locket in /opt/homebrew/lib/python3.10/site-packages (from partd>=1.4.0->dask>=2.10.0->dask[dataframe]>=2.10.0->swifter<2.0.0,>=1.4.0->graphrag) (1.0.0)\n",
      "Requirement already satisfied: wrapt in /opt/homebrew/lib/python3.10/site-packages (from smart-open>=1.8.1->gensim<5.0.0,>=4.3.2->graspologic<4.0.0,>=3.4.1->graphrag) (1.16.0)\n",
      "\n",
      "\u001b[1m[\u001b[0m\u001b[34;49mnotice\u001b[0m\u001b[1;39;49m]\u001b[0m\u001b[39;49m A new release of pip is available: \u001b[0m\u001b[31;49m24.0\u001b[0m\u001b[39;49m -> \u001b[0m\u001b[32;49m24.2\u001b[0m\n",
      "\u001b[1m[\u001b[0m\u001b[34;49mnotice\u001b[0m\u001b[1;39;49m]\u001b[0m\u001b[39;49m To update, run: \u001b[0m\u001b[32;49mpython3.10 -m pip install --upgrade pip\u001b[0m\n"
     ]
    }
   ],
   "source": [
    "!pip install graphrag"
   ]
  },
  {
   "cell_type": "code",
   "execution_count": 4,
   "metadata": {},
   "outputs": [],
   "source": [
    "import graphrag\n",
    "from graphrag.query.indexer_adapters import read_indexer_entities, read_indexer_reports\n",
    "from graphrag.query.llm.oai.chat_openai import ChatOpenAI\n",
    "from graphrag.query.llm.oai.typing import OpenaiApiType\n",
    "from graphrag.query.structured_search.global_search.community_context import (\n",
    "    GlobalCommunityContext,\n",
    ")\n",
    "from graphrag.query.structured_search.global_search.search import GlobalSearch"
   ]
  },
  {
   "cell_type": "code",
   "execution_count": 7,
   "metadata": {},
   "outputs": [
    {
     "name": "stdout",
     "output_type": "stream",
     "text": [
      "  % Total    % Received % Xferd  Average Speed   Time    Time     Time  Current\n",
      "                                 Dload  Upload   Total   Spent    Left  Speed\n",
      "100  184k  100  184k    0     0   175k      0  0:00:01  0:00:01 --:--:--  175k\n"
     ]
    }
   ],
   "source": [
    "!curl https://www.gutenberg.org/cache/epub/24022/pg24022.txt -o /Users/neranjhana/MyProjects/GraphRAG/datasets/pg24022.txt"
   ]
  },
  {
   "cell_type": "code",
   "execution_count": null,
   "metadata": {},
   "outputs": [],
   "source": []
  }
 ],
 "metadata": {
  "kernelspec": {
   "display_name": "Python 3",
   "language": "python",
   "name": "python3"
  },
  "language_info": {
   "codemirror_mode": {
    "name": "ipython",
    "version": 3
   },
   "file_extension": ".py",
   "mimetype": "text/x-python",
   "name": "python",
   "nbconvert_exporter": "python",
   "pygments_lexer": "ipython3",
   "version": "3.10.10"
  },
  "orig_nbformat": 4,
  "vscode": {
   "interpreter": {
    "hash": "b0fa6594d8f4cbf19f97940f81e996739fb7646882a419484c72d19e05852a7e"
   }
  }
 },
 "nbformat": 4,
 "nbformat_minor": 2
}
